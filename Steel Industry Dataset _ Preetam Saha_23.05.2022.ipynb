{
 "cells": [
  {
   "cell_type": "markdown",
   "id": "6c150717",
   "metadata": {},
   "source": [
    "# Business Problem"
   ]
  },
  {
   "cell_type": "markdown",
   "id": "7ee2ee92",
   "metadata": {},
   "source": [
    "Power saving stands for the ways and ideas through which it is possible to reduce the burden of delivering power at load end.\n",
    "With proper power-saving techniques, Industries can save millions of dollars spent on wasted energy, and utility companies can meet their power demands and can save the same energy cost.\n",
    "\n",
    "In this dataset, I will use mutilple linear regression to predict Industry Energy Consumption(in kWh).\n",
    "Many things in the predictor variables like weekend vs weekdays, low load vs high load , leading vs lagging current reactive power etc will be the dominant factors for this prediction analysis.Using this model, any energy industry can reduce their unnecessary energy consumption and increase their business revunues. "
   ]
  },
  {
   "cell_type": "markdown",
   "id": "97798388",
   "metadata": {},
   "source": [
    "### Data Set Information:\n",
    "\n",
    "https://archive.ics.uci.edu/ml//datasets/Steel+Industry+Energy+Consumption+Dataset\n",
    "\n",
    "The information gathered is from the DAEWOO Steel Co. Ltd in Gwangyang, South Korea. It produces several types of coils, steel plates, and iron plates. The information on electricity consumption is held in a cloud-based system. The information on energy consumption of the industry is stored on the website of the Korea Electric Power Corporation (pccs.kepco.go.kr), and the perspectives on daily, monthly, and annual data are calculated and shown."
   ]
  },
  {
   "cell_type": "markdown",
   "id": "b58f87b5",
   "metadata": {},
   "source": [
    "# Attribute Information:"
   ]
  },
  {
   "cell_type": "markdown",
   "id": "f8e1598a",
   "metadata": {},
   "source": [
    "Date Continuous-time data taken on the first of the month\n",
    "\n",
    "Usage_kWh Industry Energy Consumption Continuous kWh\n",
    "\n",
    "Lagging Current reactive power Continuous kVarh\n",
    "\n",
    "Leading Current reactive power Continuous kVarh\n",
    "\n",
    "CO2 Continuous ppm\n",
    "\n",
    "NSM Number of Seconds from midnight Continuous S\n",
    "\n",
    "Week status Categorical (Weekend (0) or a Weekday(1))\n",
    "\n",
    "Day of week Categorical Sunday, Monday : Saturday\n",
    "\n",
    "Load Type Categorical Light Load, Medium Load, Maximum Load"
   ]
  },
  {
   "cell_type": "markdown",
   "id": "cb5c1095",
   "metadata": {},
   "source": [
    "# Importing necessary libraries"
   ]
  },
  {
   "cell_type": "code",
   "execution_count": 43,
   "id": "f7101806",
   "metadata": {},
   "outputs": [],
   "source": [
    "import numpy as np \n",
    "import pandas as pd\n",
    "import matplotlib.pyplot as plt\n",
    "import seaborn as sns\n",
    "import warnings\n",
    "import math\n",
    "\n",
    "warnings.filterwarnings('ignore')\n",
    "%matplotlib inline"
   ]
  },
  {
   "cell_type": "code",
   "execution_count": 21,
   "id": "0c622a70",
   "metadata": {},
   "outputs": [
    {
     "data": {
      "text/html": [
       "<div>\n",
       "<style scoped>\n",
       "    .dataframe tbody tr th:only-of-type {\n",
       "        vertical-align: middle;\n",
       "    }\n",
       "\n",
       "    .dataframe tbody tr th {\n",
       "        vertical-align: top;\n",
       "    }\n",
       "\n",
       "    .dataframe thead th {\n",
       "        text-align: right;\n",
       "    }\n",
       "</style>\n",
       "<table border=\"1\" class=\"dataframe\">\n",
       "  <thead>\n",
       "    <tr style=\"text-align: right;\">\n",
       "      <th></th>\n",
       "      <th>date</th>\n",
       "      <th>Usage_kWh</th>\n",
       "      <th>Lagging_Current_Reactive.Power_kVarh</th>\n",
       "      <th>Leading_Current_Reactive_Power_kVarh</th>\n",
       "      <th>CO2(tCO2)</th>\n",
       "      <th>Lagging_Current_Power_Factor</th>\n",
       "      <th>Leading_Current_Power_Factor</th>\n",
       "      <th>NSM</th>\n",
       "      <th>WeekStatus</th>\n",
       "      <th>Day_of_week</th>\n",
       "      <th>Load_Type</th>\n",
       "    </tr>\n",
       "  </thead>\n",
       "  <tbody>\n",
       "    <tr>\n",
       "      <th>0</th>\n",
       "      <td>1/1/2018 0:15</td>\n",
       "      <td>3.17</td>\n",
       "      <td>2.95</td>\n",
       "      <td>0.0</td>\n",
       "      <td>0.0</td>\n",
       "      <td>73.21</td>\n",
       "      <td>100.0</td>\n",
       "      <td>900</td>\n",
       "      <td>Weekday</td>\n",
       "      <td>Monday</td>\n",
       "      <td>Light_Load</td>\n",
       "    </tr>\n",
       "    <tr>\n",
       "      <th>1</th>\n",
       "      <td>1/1/2018 0:30</td>\n",
       "      <td>4.00</td>\n",
       "      <td>4.46</td>\n",
       "      <td>0.0</td>\n",
       "      <td>0.0</td>\n",
       "      <td>66.77</td>\n",
       "      <td>100.0</td>\n",
       "      <td>1800</td>\n",
       "      <td>Weekday</td>\n",
       "      <td>Monday</td>\n",
       "      <td>Light_Load</td>\n",
       "    </tr>\n",
       "    <tr>\n",
       "      <th>2</th>\n",
       "      <td>1/1/2018 0:45</td>\n",
       "      <td>3.24</td>\n",
       "      <td>3.28</td>\n",
       "      <td>0.0</td>\n",
       "      <td>0.0</td>\n",
       "      <td>70.28</td>\n",
       "      <td>100.0</td>\n",
       "      <td>2700</td>\n",
       "      <td>Weekday</td>\n",
       "      <td>Monday</td>\n",
       "      <td>Light_Load</td>\n",
       "    </tr>\n",
       "    <tr>\n",
       "      <th>3</th>\n",
       "      <td>1/1/2018 1:00</td>\n",
       "      <td>3.31</td>\n",
       "      <td>3.56</td>\n",
       "      <td>0.0</td>\n",
       "      <td>0.0</td>\n",
       "      <td>68.09</td>\n",
       "      <td>100.0</td>\n",
       "      <td>3600</td>\n",
       "      <td>Weekday</td>\n",
       "      <td>Monday</td>\n",
       "      <td>Light_Load</td>\n",
       "    </tr>\n",
       "    <tr>\n",
       "      <th>4</th>\n",
       "      <td>1/1/2018 1:15</td>\n",
       "      <td>3.82</td>\n",
       "      <td>4.50</td>\n",
       "      <td>0.0</td>\n",
       "      <td>0.0</td>\n",
       "      <td>64.72</td>\n",
       "      <td>100.0</td>\n",
       "      <td>4500</td>\n",
       "      <td>Weekday</td>\n",
       "      <td>Monday</td>\n",
       "      <td>Light_Load</td>\n",
       "    </tr>\n",
       "  </tbody>\n",
       "</table>\n",
       "</div>"
      ],
      "text/plain": [
       "            date  Usage_kWh  Lagging_Current_Reactive.Power_kVarh  \\\n",
       "0  1/1/2018 0:15       3.17                                  2.95   \n",
       "1  1/1/2018 0:30       4.00                                  4.46   \n",
       "2  1/1/2018 0:45       3.24                                  3.28   \n",
       "3  1/1/2018 1:00       3.31                                  3.56   \n",
       "4  1/1/2018 1:15       3.82                                  4.50   \n",
       "\n",
       "   Leading_Current_Reactive_Power_kVarh  CO2(tCO2)  \\\n",
       "0                                   0.0        0.0   \n",
       "1                                   0.0        0.0   \n",
       "2                                   0.0        0.0   \n",
       "3                                   0.0        0.0   \n",
       "4                                   0.0        0.0   \n",
       "\n",
       "   Lagging_Current_Power_Factor  Leading_Current_Power_Factor   NSM  \\\n",
       "0                         73.21                         100.0   900   \n",
       "1                         66.77                         100.0  1800   \n",
       "2                         70.28                         100.0  2700   \n",
       "3                         68.09                         100.0  3600   \n",
       "4                         64.72                         100.0  4500   \n",
       "\n",
       "  WeekStatus Day_of_week   Load_Type  \n",
       "0    Weekday      Monday  Light_Load  \n",
       "1    Weekday      Monday  Light_Load  \n",
       "2    Weekday      Monday  Light_Load  \n",
       "3    Weekday      Monday  Light_Load  \n",
       "4    Weekday      Monday  Light_Load  "
      ]
     },
     "execution_count": 21,
     "metadata": {},
     "output_type": "execute_result"
    }
   ],
   "source": [
    "df=pd.read_csv('Steel_industry_data.csv')\n",
    "df.head(5)"
   ]
  },
  {
   "cell_type": "code",
   "execution_count": 5,
   "id": "91fdb39c",
   "metadata": {},
   "outputs": [
    {
     "data": {
      "text/plain": [
       "(35040, 11)"
      ]
     },
     "execution_count": 5,
     "metadata": {},
     "output_type": "execute_result"
    }
   ],
   "source": [
    "df.shape"
   ]
  },
  {
   "cell_type": "code",
   "execution_count": 6,
   "id": "d1802d38",
   "metadata": {},
   "outputs": [
    {
     "name": "stdout",
     "output_type": "stream",
     "text": [
      "<class 'pandas.core.frame.DataFrame'>\n",
      "RangeIndex: 35040 entries, 0 to 35039\n",
      "Data columns (total 11 columns):\n",
      " #   Column                                Non-Null Count  Dtype  \n",
      "---  ------                                --------------  -----  \n",
      " 0   date                                  35040 non-null  object \n",
      " 1   Usage_kWh                             35040 non-null  float64\n",
      " 2   Lagging_Current_Reactive.Power_kVarh  35040 non-null  float64\n",
      " 3   Leading_Current_Reactive_Power_kVarh  35040 non-null  float64\n",
      " 4   CO2(tCO2)                             35040 non-null  float64\n",
      " 5   Lagging_Current_Power_Factor          35040 non-null  float64\n",
      " 6   Leading_Current_Power_Factor          35040 non-null  float64\n",
      " 7   NSM                                   35040 non-null  int64  \n",
      " 8   WeekStatus                            35040 non-null  object \n",
      " 9   Day_of_week                           35040 non-null  object \n",
      " 10  Load_Type                             35040 non-null  object \n",
      "dtypes: float64(6), int64(1), object(4)\n",
      "memory usage: 2.9+ MB\n"
     ]
    }
   ],
   "source": [
    "df.info()"
   ]
  },
  {
   "cell_type": "code",
   "execution_count": 7,
   "id": "ea739ccd",
   "metadata": {},
   "outputs": [
    {
     "data": {
      "text/html": [
       "<div>\n",
       "<style scoped>\n",
       "    .dataframe tbody tr th:only-of-type {\n",
       "        vertical-align: middle;\n",
       "    }\n",
       "\n",
       "    .dataframe tbody tr th {\n",
       "        vertical-align: top;\n",
       "    }\n",
       "\n",
       "    .dataframe thead th {\n",
       "        text-align: right;\n",
       "    }\n",
       "</style>\n",
       "<table border=\"1\" class=\"dataframe\">\n",
       "  <thead>\n",
       "    <tr style=\"text-align: right;\">\n",
       "      <th></th>\n",
       "      <th>Usage_kWh</th>\n",
       "      <th>Lagging_Current_Reactive.Power_kVarh</th>\n",
       "      <th>Leading_Current_Reactive_Power_kVarh</th>\n",
       "      <th>CO2(tCO2)</th>\n",
       "      <th>Lagging_Current_Power_Factor</th>\n",
       "      <th>Leading_Current_Power_Factor</th>\n",
       "      <th>NSM</th>\n",
       "    </tr>\n",
       "  </thead>\n",
       "  <tbody>\n",
       "    <tr>\n",
       "      <th>count</th>\n",
       "      <td>35040.000000</td>\n",
       "      <td>35040.000000</td>\n",
       "      <td>35040.000000</td>\n",
       "      <td>35040.000000</td>\n",
       "      <td>35040.000000</td>\n",
       "      <td>35040.000000</td>\n",
       "      <td>35040.000000</td>\n",
       "    </tr>\n",
       "    <tr>\n",
       "      <th>mean</th>\n",
       "      <td>27.386892</td>\n",
       "      <td>13.035384</td>\n",
       "      <td>3.870949</td>\n",
       "      <td>0.011524</td>\n",
       "      <td>80.578056</td>\n",
       "      <td>84.367870</td>\n",
       "      <td>42750.000000</td>\n",
       "    </tr>\n",
       "    <tr>\n",
       "      <th>std</th>\n",
       "      <td>33.444380</td>\n",
       "      <td>16.306000</td>\n",
       "      <td>7.424463</td>\n",
       "      <td>0.016151</td>\n",
       "      <td>18.921322</td>\n",
       "      <td>30.456535</td>\n",
       "      <td>24940.534317</td>\n",
       "    </tr>\n",
       "    <tr>\n",
       "      <th>min</th>\n",
       "      <td>0.000000</td>\n",
       "      <td>0.000000</td>\n",
       "      <td>0.000000</td>\n",
       "      <td>0.000000</td>\n",
       "      <td>0.000000</td>\n",
       "      <td>0.000000</td>\n",
       "      <td>0.000000</td>\n",
       "    </tr>\n",
       "    <tr>\n",
       "      <th>25%</th>\n",
       "      <td>3.200000</td>\n",
       "      <td>2.300000</td>\n",
       "      <td>0.000000</td>\n",
       "      <td>0.000000</td>\n",
       "      <td>63.320000</td>\n",
       "      <td>99.700000</td>\n",
       "      <td>21375.000000</td>\n",
       "    </tr>\n",
       "    <tr>\n",
       "      <th>50%</th>\n",
       "      <td>4.570000</td>\n",
       "      <td>5.000000</td>\n",
       "      <td>0.000000</td>\n",
       "      <td>0.000000</td>\n",
       "      <td>87.960000</td>\n",
       "      <td>100.000000</td>\n",
       "      <td>42750.000000</td>\n",
       "    </tr>\n",
       "    <tr>\n",
       "      <th>75%</th>\n",
       "      <td>51.237500</td>\n",
       "      <td>22.640000</td>\n",
       "      <td>2.090000</td>\n",
       "      <td>0.020000</td>\n",
       "      <td>99.022500</td>\n",
       "      <td>100.000000</td>\n",
       "      <td>64125.000000</td>\n",
       "    </tr>\n",
       "    <tr>\n",
       "      <th>max</th>\n",
       "      <td>157.180000</td>\n",
       "      <td>96.910000</td>\n",
       "      <td>27.760000</td>\n",
       "      <td>0.070000</td>\n",
       "      <td>100.000000</td>\n",
       "      <td>100.000000</td>\n",
       "      <td>85500.000000</td>\n",
       "    </tr>\n",
       "  </tbody>\n",
       "</table>\n",
       "</div>"
      ],
      "text/plain": [
       "          Usage_kWh  Lagging_Current_Reactive.Power_kVarh  \\\n",
       "count  35040.000000                          35040.000000   \n",
       "mean      27.386892                             13.035384   \n",
       "std       33.444380                             16.306000   \n",
       "min        0.000000                              0.000000   \n",
       "25%        3.200000                              2.300000   \n",
       "50%        4.570000                              5.000000   \n",
       "75%       51.237500                             22.640000   \n",
       "max      157.180000                             96.910000   \n",
       "\n",
       "       Leading_Current_Reactive_Power_kVarh     CO2(tCO2)  \\\n",
       "count                          35040.000000  35040.000000   \n",
       "mean                               3.870949      0.011524   \n",
       "std                                7.424463      0.016151   \n",
       "min                                0.000000      0.000000   \n",
       "25%                                0.000000      0.000000   \n",
       "50%                                0.000000      0.000000   \n",
       "75%                                2.090000      0.020000   \n",
       "max                               27.760000      0.070000   \n",
       "\n",
       "       Lagging_Current_Power_Factor  Leading_Current_Power_Factor  \\\n",
       "count                  35040.000000                  35040.000000   \n",
       "mean                      80.578056                     84.367870   \n",
       "std                       18.921322                     30.456535   \n",
       "min                        0.000000                      0.000000   \n",
       "25%                       63.320000                     99.700000   \n",
       "50%                       87.960000                    100.000000   \n",
       "75%                       99.022500                    100.000000   \n",
       "max                      100.000000                    100.000000   \n",
       "\n",
       "                NSM  \n",
       "count  35040.000000  \n",
       "mean   42750.000000  \n",
       "std    24940.534317  \n",
       "min        0.000000  \n",
       "25%    21375.000000  \n",
       "50%    42750.000000  \n",
       "75%    64125.000000  \n",
       "max    85500.000000  "
      ]
     },
     "execution_count": 7,
     "metadata": {},
     "output_type": "execute_result"
    }
   ],
   "source": [
    "df.describe()"
   ]
  },
  {
   "cell_type": "code",
   "execution_count": 8,
   "id": "9e308e87",
   "metadata": {},
   "outputs": [],
   "source": [
    "#rename attribute\n",
    "df = df.rename(columns = {'Lagging_Current_Reactive.Power_kVarh' : 'Lagging_Current_Reactive_Power_kVarh', \n",
    "                          'CO2(tCO2)' : 'CO2'})"
   ]
  },
  {
   "cell_type": "code",
   "execution_count": 9,
   "id": "4090d68c",
   "metadata": {},
   "outputs": [
    {
     "data": {
      "text/html": [
       "<div>\n",
       "<style scoped>\n",
       "    .dataframe tbody tr th:only-of-type {\n",
       "        vertical-align: middle;\n",
       "    }\n",
       "\n",
       "    .dataframe tbody tr th {\n",
       "        vertical-align: top;\n",
       "    }\n",
       "\n",
       "    .dataframe thead th {\n",
       "        text-align: right;\n",
       "    }\n",
       "</style>\n",
       "<table border=\"1\" class=\"dataframe\">\n",
       "  <thead>\n",
       "    <tr style=\"text-align: right;\">\n",
       "      <th></th>\n",
       "      <th>Usage_kWh</th>\n",
       "      <th>Lagging_Current_Reactive_Power_kVarh</th>\n",
       "      <th>Leading_Current_Reactive_Power_kVarh</th>\n",
       "      <th>CO2</th>\n",
       "      <th>Lagging_Current_Power_Factor</th>\n",
       "      <th>Leading_Current_Power_Factor</th>\n",
       "      <th>NSM</th>\n",
       "    </tr>\n",
       "  </thead>\n",
       "  <tbody>\n",
       "    <tr>\n",
       "      <th>Usage_kWh</th>\n",
       "      <td>1.000000</td>\n",
       "      <td>0.896150</td>\n",
       "      <td>-0.324922</td>\n",
       "      <td>0.988180</td>\n",
       "      <td>0.385960</td>\n",
       "      <td>0.353566</td>\n",
       "      <td>0.234610</td>\n",
       "    </tr>\n",
       "    <tr>\n",
       "      <th>Lagging_Current_Reactive_Power_kVarh</th>\n",
       "      <td>0.896150</td>\n",
       "      <td>1.000000</td>\n",
       "      <td>-0.405142</td>\n",
       "      <td>0.886948</td>\n",
       "      <td>0.144534</td>\n",
       "      <td>0.407716</td>\n",
       "      <td>0.082662</td>\n",
       "    </tr>\n",
       "    <tr>\n",
       "      <th>Leading_Current_Reactive_Power_kVarh</th>\n",
       "      <td>-0.324922</td>\n",
       "      <td>-0.405142</td>\n",
       "      <td>1.000000</td>\n",
       "      <td>-0.332777</td>\n",
       "      <td>0.526770</td>\n",
       "      <td>-0.944039</td>\n",
       "      <td>0.371605</td>\n",
       "    </tr>\n",
       "    <tr>\n",
       "      <th>CO2</th>\n",
       "      <td>0.988180</td>\n",
       "      <td>0.886948</td>\n",
       "      <td>-0.332777</td>\n",
       "      <td>1.000000</td>\n",
       "      <td>0.379605</td>\n",
       "      <td>0.360019</td>\n",
       "      <td>0.231726</td>\n",
       "    </tr>\n",
       "    <tr>\n",
       "      <th>Lagging_Current_Power_Factor</th>\n",
       "      <td>0.385960</td>\n",
       "      <td>0.144534</td>\n",
       "      <td>0.526770</td>\n",
       "      <td>0.379605</td>\n",
       "      <td>1.000000</td>\n",
       "      <td>-0.519967</td>\n",
       "      <td>0.565270</td>\n",
       "    </tr>\n",
       "    <tr>\n",
       "      <th>Leading_Current_Power_Factor</th>\n",
       "      <td>0.353566</td>\n",
       "      <td>0.407716</td>\n",
       "      <td>-0.944039</td>\n",
       "      <td>0.360019</td>\n",
       "      <td>-0.519967</td>\n",
       "      <td>1.000000</td>\n",
       "      <td>-0.360563</td>\n",
       "    </tr>\n",
       "    <tr>\n",
       "      <th>NSM</th>\n",
       "      <td>0.234610</td>\n",
       "      <td>0.082662</td>\n",
       "      <td>0.371605</td>\n",
       "      <td>0.231726</td>\n",
       "      <td>0.565270</td>\n",
       "      <td>-0.360563</td>\n",
       "      <td>1.000000</td>\n",
       "    </tr>\n",
       "  </tbody>\n",
       "</table>\n",
       "</div>"
      ],
      "text/plain": [
       "                                      Usage_kWh  \\\n",
       "Usage_kWh                              1.000000   \n",
       "Lagging_Current_Reactive_Power_kVarh   0.896150   \n",
       "Leading_Current_Reactive_Power_kVarh  -0.324922   \n",
       "CO2                                    0.988180   \n",
       "Lagging_Current_Power_Factor           0.385960   \n",
       "Leading_Current_Power_Factor           0.353566   \n",
       "NSM                                    0.234610   \n",
       "\n",
       "                                      Lagging_Current_Reactive_Power_kVarh  \\\n",
       "Usage_kWh                                                         0.896150   \n",
       "Lagging_Current_Reactive_Power_kVarh                              1.000000   \n",
       "Leading_Current_Reactive_Power_kVarh                             -0.405142   \n",
       "CO2                                                               0.886948   \n",
       "Lagging_Current_Power_Factor                                      0.144534   \n",
       "Leading_Current_Power_Factor                                      0.407716   \n",
       "NSM                                                               0.082662   \n",
       "\n",
       "                                      Leading_Current_Reactive_Power_kVarh  \\\n",
       "Usage_kWh                                                        -0.324922   \n",
       "Lagging_Current_Reactive_Power_kVarh                             -0.405142   \n",
       "Leading_Current_Reactive_Power_kVarh                              1.000000   \n",
       "CO2                                                              -0.332777   \n",
       "Lagging_Current_Power_Factor                                      0.526770   \n",
       "Leading_Current_Power_Factor                                     -0.944039   \n",
       "NSM                                                               0.371605   \n",
       "\n",
       "                                           CO2  Lagging_Current_Power_Factor  \\\n",
       "Usage_kWh                             0.988180                      0.385960   \n",
       "Lagging_Current_Reactive_Power_kVarh  0.886948                      0.144534   \n",
       "Leading_Current_Reactive_Power_kVarh -0.332777                      0.526770   \n",
       "CO2                                   1.000000                      0.379605   \n",
       "Lagging_Current_Power_Factor          0.379605                      1.000000   \n",
       "Leading_Current_Power_Factor          0.360019                     -0.519967   \n",
       "NSM                                   0.231726                      0.565270   \n",
       "\n",
       "                                      Leading_Current_Power_Factor       NSM  \n",
       "Usage_kWh                                                 0.353566  0.234610  \n",
       "Lagging_Current_Reactive_Power_kVarh                      0.407716  0.082662  \n",
       "Leading_Current_Reactive_Power_kVarh                     -0.944039  0.371605  \n",
       "CO2                                                       0.360019  0.231726  \n",
       "Lagging_Current_Power_Factor                             -0.519967  0.565270  \n",
       "Leading_Current_Power_Factor                              1.000000 -0.360563  \n",
       "NSM                                                      -0.360563  1.000000  "
      ]
     },
     "execution_count": 9,
     "metadata": {},
     "output_type": "execute_result"
    }
   ],
   "source": [
    "df.corr()"
   ]
  },
  {
   "cell_type": "code",
   "execution_count": 10,
   "id": "8dcfa712",
   "metadata": {},
   "outputs": [
    {
     "data": {
      "image/png": "[encoded data removed]",
      "text/plain": [
       "<Figure size 576x432 with 2 Axes>"
      ]
     },
     "metadata": {
      "needs_background": "light"
     },
     "output_type": "display_data"
    }
   ],
   "source": [
    "#visualize the correlation using pearson correlation\n",
    "plt.figure(figsize = (8,6))\n",
    "sns.heatmap(df.corr(), annot = True, cmap = 'YlGnBu')\n",
    "plt.title(\"Pearson Correlation\", fontsize = 15, color = 'b', pad = 12, loc = 'center')\n",
    "plt.show()"
   ]
  },
  {
   "cell_type": "code",
   "execution_count": 12,
   "id": "7da08398",
   "metadata": {},
   "outputs": [
    {
     "data": {
      "text/html": [
       "<div>\n",
       "<style scoped>\n",
       "    .dataframe tbody tr th:only-of-type {\n",
       "        vertical-align: middle;\n",
       "    }\n",
       "\n",
       "    .dataframe tbody tr th {\n",
       "        vertical-align: top;\n",
       "    }\n",
       "\n",
       "    .dataframe thead th {\n",
       "        text-align: right;\n",
       "    }\n",
       "</style>\n",
       "<table border=\"1\" class=\"dataframe\">\n",
       "  <thead>\n",
       "    <tr style=\"text-align: right;\">\n",
       "      <th></th>\n",
       "      <th>Usage_kWh</th>\n",
       "    </tr>\n",
       "    <tr>\n",
       "      <th>date</th>\n",
       "      <th></th>\n",
       "    </tr>\n",
       "  </thead>\n",
       "  <tbody>\n",
       "    <tr>\n",
       "      <th>1/1/2018 0:00</th>\n",
       "      <td>3.42</td>\n",
       "    </tr>\n",
       "    <tr>\n",
       "      <th>1/1/2018 0:15</th>\n",
       "      <td>3.17</td>\n",
       "    </tr>\n",
       "    <tr>\n",
       "      <th>1/1/2018 0:30</th>\n",
       "      <td>4.00</td>\n",
       "    </tr>\n",
       "    <tr>\n",
       "      <th>1/1/2018 0:45</th>\n",
       "      <td>3.24</td>\n",
       "    </tr>\n",
       "    <tr>\n",
       "      <th>1/1/2018 10:00</th>\n",
       "      <td>3.64</td>\n",
       "    </tr>\n",
       "    <tr>\n",
       "      <th>1/1/2018 10:15</th>\n",
       "      <td>4.07</td>\n",
       "    </tr>\n",
       "    <tr>\n",
       "      <th>1/1/2018 10:30</th>\n",
       "      <td>3.71</td>\n",
       "    </tr>\n",
       "    <tr>\n",
       "      <th>1/1/2018 10:45</th>\n",
       "      <td>3.60</td>\n",
       "    </tr>\n",
       "    <tr>\n",
       "      <th>1/1/2018 11:00</th>\n",
       "      <td>4.21</td>\n",
       "    </tr>\n",
       "    <tr>\n",
       "      <th>1/1/2018 11:15</th>\n",
       "      <td>3.49</td>\n",
       "    </tr>\n",
       "    <tr>\n",
       "      <th>1/1/2018 11:30</th>\n",
       "      <td>3.46</td>\n",
       "    </tr>\n",
       "    <tr>\n",
       "      <th>1/1/2018 11:45</th>\n",
       "      <td>4.00</td>\n",
       "    </tr>\n",
       "    <tr>\n",
       "      <th>1/1/2018 12:00</th>\n",
       "      <td>3.49</td>\n",
       "    </tr>\n",
       "    <tr>\n",
       "      <th>1/1/2018 12:15</th>\n",
       "      <td>3.60</td>\n",
       "    </tr>\n",
       "    <tr>\n",
       "      <th>1/1/2018 12:30</th>\n",
       "      <td>4.25</td>\n",
       "    </tr>\n",
       "    <tr>\n",
       "      <th>1/1/2018 12:45</th>\n",
       "      <td>3.67</td>\n",
       "    </tr>\n",
       "    <tr>\n",
       "      <th>1/1/2018 13:00</th>\n",
       "      <td>3.67</td>\n",
       "    </tr>\n",
       "    <tr>\n",
       "      <th>1/1/2018 13:15</th>\n",
       "      <td>4.25</td>\n",
       "    </tr>\n",
       "    <tr>\n",
       "      <th>1/1/2018 13:30</th>\n",
       "      <td>3.64</td>\n",
       "    </tr>\n",
       "    <tr>\n",
       "      <th>1/1/2018 13:45</th>\n",
       "      <td>3.67</td>\n",
       "    </tr>\n",
       "    <tr>\n",
       "      <th>1/1/2018 14:00</th>\n",
       "      <td>4.28</td>\n",
       "    </tr>\n",
       "    <tr>\n",
       "      <th>1/1/2018 14:15</th>\n",
       "      <td>3.64</td>\n",
       "    </tr>\n",
       "    <tr>\n",
       "      <th>1/1/2018 14:30</th>\n",
       "      <td>3.78</td>\n",
       "    </tr>\n",
       "    <tr>\n",
       "      <th>1/1/2018 14:45</th>\n",
       "      <td>4.10</td>\n",
       "    </tr>\n",
       "    <tr>\n",
       "      <th>1/1/2018 15:00</th>\n",
       "      <td>3.64</td>\n",
       "    </tr>\n",
       "    <tr>\n",
       "      <th>1/1/2018 15:15</th>\n",
       "      <td>3.92</td>\n",
       "    </tr>\n",
       "    <tr>\n",
       "      <th>1/1/2018 15:30</th>\n",
       "      <td>4.10</td>\n",
       "    </tr>\n",
       "    <tr>\n",
       "      <th>1/1/2018 15:45</th>\n",
       "      <td>3.60</td>\n",
       "    </tr>\n",
       "    <tr>\n",
       "      <th>1/1/2018 16:00</th>\n",
       "      <td>3.96</td>\n",
       "    </tr>\n",
       "    <tr>\n",
       "      <th>1/1/2018 16:15</th>\n",
       "      <td>4.00</td>\n",
       "    </tr>\n",
       "  </tbody>\n",
       "</table>\n",
       "</div>"
      ],
      "text/plain": [
       "                Usage_kWh\n",
       "date                     \n",
       "1/1/2018 0:00        3.42\n",
       "1/1/2018 0:15        3.17\n",
       "1/1/2018 0:30        4.00\n",
       "1/1/2018 0:45        3.24\n",
       "1/1/2018 10:00       3.64\n",
       "1/1/2018 10:15       4.07\n",
       "1/1/2018 10:30       3.71\n",
       "1/1/2018 10:45       3.60\n",
       "1/1/2018 11:00       4.21\n",
       "1/1/2018 11:15       3.49\n",
       "1/1/2018 11:30       3.46\n",
       "1/1/2018 11:45       4.00\n",
       "1/1/2018 12:00       3.49\n",
       "1/1/2018 12:15       3.60\n",
       "1/1/2018 12:30       4.25\n",
       "1/1/2018 12:45       3.67\n",
       "1/1/2018 13:00       3.67\n",
       "1/1/2018 13:15       4.25\n",
       "1/1/2018 13:30       3.64\n",
       "1/1/2018 13:45       3.67\n",
       "1/1/2018 14:00       4.28\n",
       "1/1/2018 14:15       3.64\n",
       "1/1/2018 14:30       3.78\n",
       "1/1/2018 14:45       4.10\n",
       "1/1/2018 15:00       3.64\n",
       "1/1/2018 15:15       3.92\n",
       "1/1/2018 15:30       4.10\n",
       "1/1/2018 15:45       3.60\n",
       "1/1/2018 16:00       3.96\n",
       "1/1/2018 16:15       4.00"
      ]
     },
     "execution_count": 12,
     "metadata": {},
     "output_type": "execute_result"
    }
   ],
   "source": [
    "#analyze the most energy consumption based on time\n",
    "most_energy_consumption = pd.pivot_table(df, index = 'date', values = 'Usage_kWh', aggfunc = {'Usage_kWh' : np.max})\n",
    "most_energy_consumption.head(30)"
   ]
  },
  {
   "cell_type": "code",
   "execution_count": 13,
   "id": "93b7ee6d",
   "metadata": {},
   "outputs": [
    {
     "data": {
      "image/png": "[encoded data removed]",
      "text/plain": [
       "<Figure size 432x288 with 1 Axes>"
      ]
     },
     "metadata": {
      "needs_background": "light"
     },
     "output_type": "display_data"
    }
   ],
   "source": [
    "#visualize the most energy consumption on time\n",
    "chart = most_energy_consumption[:40].sort_values(by = 'Usage_kWh', ascending = False).plot(kind = 'line', color = 'tomato')\n",
    "chart.set_xticklabels(chart.get_xticklabels(), rotation = 45)\n",
    "plt.title('The Most Energy Consumption', fontsize = 15, color = 'b', loc = 'center', pad = 12)\n",
    "plt.xlabel('Date')\n",
    "plt.ylabel('Energy Consumption')\n",
    "plt.show()"
   ]
  },
  {
   "cell_type": "code",
   "execution_count": 14,
   "id": "57d01e07",
   "metadata": {},
   "outputs": [
    {
     "data": {
      "image/png": "[encoded data removed]",
      "text/plain": [
       "<Figure size 432x288 with 1 Axes>"
      ]
     },
     "metadata": {
      "needs_background": "light"
     },
     "output_type": "display_data"
    }
   ],
   "source": [
    "#analyze the factor of energy consumption\n",
    "chart = df.boxplot(column = ['Usage_kWh', 'Lagging_Current_Reactive_Power_kVarh', 'Leading_Current_Reactive_Power_kVarh',\n",
    "                    'CO2', 'Lagging_Current_Power_Factor', 'Leading_Current_Power_Factor', 'NSM'])\n",
    "chart.set_xticklabels(chart.get_xticklabels(), rotation = 90)\n",
    "plt.title('The Factor of Energy Consumption in Steel Industry', fontsize = 15, color = 'r', pad = 12)\n",
    "plt.xlabel('Factors')\n",
    "plt.ylabel('Count')\n",
    "plt.show()"
   ]
  },
  {
   "cell_type": "code",
   "execution_count": 15,
   "id": "a757e951",
   "metadata": {},
   "outputs": [
    {
     "data": {
      "text/html": [
       "<div>\n",
       "<style scoped>\n",
       "    .dataframe tbody tr th:only-of-type {\n",
       "        vertical-align: middle;\n",
       "    }\n",
       "\n",
       "    .dataframe tbody tr th {\n",
       "        vertical-align: top;\n",
       "    }\n",
       "\n",
       "    .dataframe thead th {\n",
       "        text-align: right;\n",
       "    }\n",
       "</style>\n",
       "<table border=\"1\" class=\"dataframe\">\n",
       "  <thead>\n",
       "    <tr style=\"text-align: right;\">\n",
       "      <th></th>\n",
       "      <th></th>\n",
       "      <th></th>\n",
       "      <th>NSM</th>\n",
       "      <th>Usage_kWh</th>\n",
       "    </tr>\n",
       "    <tr>\n",
       "      <th>Load_Type</th>\n",
       "      <th>Day_of_week</th>\n",
       "      <th>WeekStatus</th>\n",
       "      <th></th>\n",
       "      <th></th>\n",
       "    </tr>\n",
       "  </thead>\n",
       "  <tbody>\n",
       "    <tr>\n",
       "      <th rowspan=\"7\" valign=\"top\">Light_Load</th>\n",
       "      <th>Friday</th>\n",
       "      <th>Weekday</th>\n",
       "      <td>23206.204380</td>\n",
       "      <td>11.361442</td>\n",
       "    </tr>\n",
       "    <tr>\n",
       "      <th>Monday</th>\n",
       "      <th>Weekday</th>\n",
       "      <td>24026.223776</td>\n",
       "      <td>8.805459</td>\n",
       "    </tr>\n",
       "    <tr>\n",
       "      <th>Saturday</th>\n",
       "      <th>Weekend</th>\n",
       "      <td>31381.843575</td>\n",
       "      <td>7.072210</td>\n",
       "    </tr>\n",
       "    <tr>\n",
       "      <th>Sunday</th>\n",
       "      <th>Weekend</th>\n",
       "      <td>39144.653465</td>\n",
       "      <td>4.171106</td>\n",
       "    </tr>\n",
       "    <tr>\n",
       "      <th>Thursday</th>\n",
       "      <th>Weekday</th>\n",
       "      <td>23206.204380</td>\n",
       "      <td>11.803964</td>\n",
       "    </tr>\n",
       "    <tr>\n",
       "      <th>Tuesday</th>\n",
       "      <th>Weekday</th>\n",
       "      <td>24074.199288</td>\n",
       "      <td>10.510040</td>\n",
       "    </tr>\n",
       "    <tr>\n",
       "      <th>Wednesday</th>\n",
       "      <th>Weekday</th>\n",
       "      <td>24074.199288</td>\n",
       "      <td>10.780560</td>\n",
       "    </tr>\n",
       "    <tr>\n",
       "      <th rowspan=\"7\" valign=\"top\">Maximum_Load</th>\n",
       "      <th>Friday</th>\n",
       "      <th>Weekday</th>\n",
       "      <td>53106.000000</td>\n",
       "      <td>61.043700</td>\n",
       "    </tr>\n",
       "    <tr>\n",
       "      <th>Monday</th>\n",
       "      <th>Weekday</th>\n",
       "      <td>53106.000000</td>\n",
       "      <td>66.278233</td>\n",
       "    </tr>\n",
       "    <tr>\n",
       "      <th>Saturday</th>\n",
       "      <th>Weekend</th>\n",
       "      <td>52492.105263</td>\n",
       "      <td>41.529605</td>\n",
       "    </tr>\n",
       "    <tr>\n",
       "      <th>Sunday</th>\n",
       "      <th>Weekend</th>\n",
       "      <td>52826.470588</td>\n",
       "      <td>29.195662</td>\n",
       "    </tr>\n",
       "    <tr>\n",
       "      <th>Thursday</th>\n",
       "      <th>Weekday</th>\n",
       "      <td>53106.000000</td>\n",
       "      <td>64.522758</td>\n",
       "    </tr>\n",
       "    <tr>\n",
       "      <th>Tuesday</th>\n",
       "      <th>Weekday</th>\n",
       "      <td>53176.530612</td>\n",
       "      <td>66.023359</td>\n",
       "    </tr>\n",
       "    <tr>\n",
       "      <th>Wednesday</th>\n",
       "      <th>Weekday</th>\n",
       "      <td>53176.530612</td>\n",
       "      <td>62.358359</td>\n",
       "    </tr>\n",
       "    <tr>\n",
       "      <th rowspan=\"7\" valign=\"top\">Medium_Load</th>\n",
       "      <th>Friday</th>\n",
       "      <th>Weekday</th>\n",
       "      <td>61758.000000</td>\n",
       "      <td>42.220494</td>\n",
       "    </tr>\n",
       "    <tr>\n",
       "      <th>Monday</th>\n",
       "      <th>Weekday</th>\n",
       "      <td>61758.000000</td>\n",
       "      <td>43.097231</td>\n",
       "    </tr>\n",
       "    <tr>\n",
       "      <th>Saturday</th>\n",
       "      <th>Weekend</th>\n",
       "      <td>62218.421053</td>\n",
       "      <td>17.547648</td>\n",
       "    </tr>\n",
       "    <tr>\n",
       "      <th>Sunday</th>\n",
       "      <th>Weekend</th>\n",
       "      <td>61967.647059</td>\n",
       "      <td>16.368934</td>\n",
       "    </tr>\n",
       "    <tr>\n",
       "      <th>Thursday</th>\n",
       "      <th>Weekday</th>\n",
       "      <td>61758.000000</td>\n",
       "      <td>44.986200</td>\n",
       "    </tr>\n",
       "    <tr>\n",
       "      <th>Tuesday</th>\n",
       "      <th>Weekday</th>\n",
       "      <td>61705.102041</td>\n",
       "      <td>45.020797</td>\n",
       "    </tr>\n",
       "    <tr>\n",
       "      <th>Wednesday</th>\n",
       "      <th>Weekday</th>\n",
       "      <td>61705.102041</td>\n",
       "      <td>40.462379</td>\n",
       "    </tr>\n",
       "  </tbody>\n",
       "</table>\n",
       "</div>"
      ],
      "text/plain": [
       "                                              NSM  Usage_kWh\n",
       "Load_Type    Day_of_week WeekStatus                         \n",
       "Light_Load   Friday      Weekday     23206.204380  11.361442\n",
       "             Monday      Weekday     24026.223776   8.805459\n",
       "             Saturday    Weekend     31381.843575   7.072210\n",
       "             Sunday      Weekend     39144.653465   4.171106\n",
       "             Thursday    Weekday     23206.204380  11.803964\n",
       "             Tuesday     Weekday     24074.199288  10.510040\n",
       "             Wednesday   Weekday     24074.199288  10.780560\n",
       "Maximum_Load Friday      Weekday     53106.000000  61.043700\n",
       "             Monday      Weekday     53106.000000  66.278233\n",
       "             Saturday    Weekend     52492.105263  41.529605\n",
       "             Sunday      Weekend     52826.470588  29.195662\n",
       "             Thursday    Weekday     53106.000000  64.522758\n",
       "             Tuesday     Weekday     53176.530612  66.023359\n",
       "             Wednesday   Weekday     53176.530612  62.358359\n",
       "Medium_Load  Friday      Weekday     61758.000000  42.220494\n",
       "             Monday      Weekday     61758.000000  43.097231\n",
       "             Saturday    Weekend     62218.421053  17.547648\n",
       "             Sunday      Weekend     61967.647059  16.368934\n",
       "             Thursday    Weekday     61758.000000  44.986200\n",
       "             Tuesday     Weekday     61705.102041  45.020797\n",
       "             Wednesday   Weekday     61705.102041  40.462379"
      ]
     },
     "execution_count": 15,
     "metadata": {},
     "output_type": "execute_result"
    }
   ],
   "source": [
    "#analyze of energy consumption and NSM based on load type, day of week and week status\n",
    "pd.pivot_table(df, index = ['Load_Type', 'Day_of_week', 'WeekStatus'], values = ['NSM', 'Usage_kWh'], \n",
    "               aggfunc = {'NSM' : np.mean, 'Usage_kWh' : np.mean})"
   ]
  },
  {
   "cell_type": "code",
   "execution_count": 30,
   "id": "743649fc",
   "metadata": {},
   "outputs": [
    {
     "data": {
      "image/png": "[encoded data removed]",
      "text/plain": [
       "<Figure size 1080x360 with 2 Axes>"
      ]
     },
     "metadata": {
      "needs_background": "light"
     },
     "output_type": "display_data"
    }
   ],
   "source": [
    "#visualize energy consumption based on load type\n",
    "plt.rcParams['figure.figsize'] = (15,5)\n",
    "plt.subplot(1, 2, 1)\n",
    "chart = df.groupby('Load_Type')['Usage_kWh'].mean().sort_values(ascending = False).plot(kind = 'bar', color = 'yellow')\n",
    "chart.set_xticklabels(chart.get_xticklabels(), rotation = 0)\n",
    "plt.title('Energy Consumption based on Load Type', fontsize = 15, color = 'b', pad = 12)\n",
    "plt.xlabel('Load Type')\n",
    "plt.ylabel('Energy Consumption')\n",
    "\n",
    "#visualize number of second from midnight based on load type\n",
    "plt.subplot(1, 2, 2)\n",
    "chart = df.groupby('Load_Type')['NSM'].mean().sort_values(ascending = False).plot(kind = 'bar', color = 'brown')\n",
    "chart.set_xticklabels(chart.get_xticklabels(), rotation = 0)\n",
    "plt.title('Number of Second from Midnight based on Load Type', fontsize = 15, color = 'b', pad = 12)\n",
    "plt.xlabel('Load Type')\n",
    "plt.ylabel('Number of Second from Midnight')\n",
    "plt.show()"
   ]
  },
  {
   "cell_type": "code",
   "execution_count": 23,
   "id": "8bbf0b7a",
   "metadata": {},
   "outputs": [
    {
     "data": {
      "image/png": "[encoded data removed]",
      "text/plain": [
       "<Figure size 504x360 with 1 Axes>"
      ]
     },
     "metadata": {
      "needs_background": "light"
     },
     "output_type": "display_data"
    }
   ],
   "source": [
    "#visualize energy consumption based on week status and load type\n",
    "plt.rcParams['figure.figsize'] = (7,5)\n",
    "chart = df.groupby(['WeekStatus','Load_Type'])['Usage_kWh'].mean().unstack().plot(kind = 'bar')\n",
    "chart.set_xticklabels(chart.get_xticklabels(), rotation = 0)\n",
    "plt.title('Energy Consumption based on Week Status and Load Type', fontsize = 15, pad = 15, color = 'b')\n",
    "plt.xlabel('Week Status')\n",
    "plt.ylabel('Energy Consumption')\n",
    "plt.legend(bbox_to_anchor = (1.3, 1), borderaxespad = 0)\n",
    "plt.show()"
   ]
  },
  {
   "cell_type": "code",
   "execution_count": 31,
   "id": "e9b59471",
   "metadata": {},
   "outputs": [
    {
     "data": {
      "image/png": "[encoded data removed]",
      "text/plain": [
       "<Figure size 1080x360 with 1 Axes>"
      ]
     },
     "metadata": {
      "needs_background": "light"
     },
     "output_type": "display_data"
    }
   ],
   "source": [
    "#visualize energy consumption based on day of week and load type\n",
    "chart = df.groupby(['Day_of_week','Load_Type'])['Usage_kWh'].mean().unstack().plot(kind = 'bar')\n",
    "chart.set_xticklabels(chart.get_xticklabels(), rotation = 45)\n",
    "plt.title('Energy Consumption based on Day of Week and Load Type', fontsize = 15, pad = 15, color = 'b')\n",
    "plt.xlabel('Day of Week')\n",
    "plt.ylabel('Energy Consumption')\n",
    "plt.legend(bbox_to_anchor = (1.01, 1), borderaxespad = 0)\n",
    "plt.show()"
   ]
  },
  {
   "cell_type": "code",
   "execution_count": 32,
   "id": "2e5ad469",
   "metadata": {},
   "outputs": [
    {
     "data": {
      "image/png": "[encoded data removed]",
      "text/plain": [
       "<Figure size 1080x360 with 1 Axes>"
      ]
     },
     "metadata": {
      "needs_background": "light"
     },
     "output_type": "display_data"
    }
   ],
   "source": [
    "#visualize number of second from midnight based on week status and load type\n",
    "chart = df.groupby(['WeekStatus','Load_Type'])['NSM'].mean().unstack().plot(kind = 'bar')\n",
    "chart.set_xticklabels(chart.get_xticklabels(), rotation = 0)\n",
    "plt.title('Number of Second from Midnight based on Week Status and Load Type', fontsize = 15, pad = 15, color = 'b')\n",
    "plt.xlabel('Week Status')\n",
    "plt.ylabel('Number of Second from Midnight')\n",
    "plt.legend(bbox_to_anchor = (1.3, 1), borderaxespad = 0)\n",
    "plt.show()"
   ]
  },
  {
   "cell_type": "code",
   "execution_count": 33,
   "id": "6ea7452f",
   "metadata": {},
   "outputs": [
    {
     "data": {
      "image/png": "[encoded data removed]",
      "text/plain": [
       "<Figure size 1080x720 with 9 Axes>"
      ]
     },
     "metadata": {
      "needs_background": "light"
     },
     "output_type": "display_data"
    }
   ],
   "source": [
    "#distribution of each variable\n",
    "df.hist(figsize = (15,10))\n",
    "plt.show()"
   ]
  },
  {
   "cell_type": "code",
   "execution_count": 34,
   "id": "74417aa2",
   "metadata": {},
   "outputs": [
    {
     "data": {
      "text/html": [
       "<div>\n",
       "<style scoped>\n",
       "    .dataframe tbody tr th:only-of-type {\n",
       "        vertical-align: middle;\n",
       "    }\n",
       "\n",
       "    .dataframe tbody tr th {\n",
       "        vertical-align: top;\n",
       "    }\n",
       "\n",
       "    .dataframe thead th {\n",
       "        text-align: right;\n",
       "    }\n",
       "</style>\n",
       "<table border=\"1\" class=\"dataframe\">\n",
       "  <thead>\n",
       "    <tr style=\"text-align: right;\">\n",
       "      <th></th>\n",
       "      <th>Usage_kWh</th>\n",
       "      <th>Lagging_Current_Reactive.Power_kVarh</th>\n",
       "      <th>Leading_Current_Reactive_Power_kVarh</th>\n",
       "      <th>CO2(tCO2)</th>\n",
       "      <th>Lagging_Current_Power_Factor</th>\n",
       "      <th>Leading_Current_Power_Factor</th>\n",
       "      <th>NSM</th>\n",
       "      <th>WeekStatus_Weekend</th>\n",
       "      <th>Day_of_week_Monday</th>\n",
       "      <th>Day_of_week_Saturday</th>\n",
       "      <th>Day_of_week_Sunday</th>\n",
       "      <th>Day_of_week_Thursday</th>\n",
       "      <th>Day_of_week_Tuesday</th>\n",
       "      <th>Day_of_week_Wednesday</th>\n",
       "      <th>Load_Type_Maximum_Load</th>\n",
       "      <th>Load_Type_Medium_Load</th>\n",
       "    </tr>\n",
       "    <tr>\n",
       "      <th>date</th>\n",
       "      <th></th>\n",
       "      <th></th>\n",
       "      <th></th>\n",
       "      <th></th>\n",
       "      <th></th>\n",
       "      <th></th>\n",
       "      <th></th>\n",
       "      <th></th>\n",
       "      <th></th>\n",
       "      <th></th>\n",
       "      <th></th>\n",
       "      <th></th>\n",
       "      <th></th>\n",
       "      <th></th>\n",
       "      <th></th>\n",
       "      <th></th>\n",
       "    </tr>\n",
       "  </thead>\n",
       "  <tbody>\n",
       "    <tr>\n",
       "      <th>1/1/2018 0:15</th>\n",
       "      <td>3.17</td>\n",
       "      <td>2.95</td>\n",
       "      <td>0.0</td>\n",
       "      <td>0.0</td>\n",
       "      <td>73.21</td>\n",
       "      <td>100.0</td>\n",
       "      <td>900</td>\n",
       "      <td>0</td>\n",
       "      <td>1</td>\n",
       "      <td>0</td>\n",
       "      <td>0</td>\n",
       "      <td>0</td>\n",
       "      <td>0</td>\n",
       "      <td>0</td>\n",
       "      <td>0</td>\n",
       "      <td>0</td>\n",
       "    </tr>\n",
       "    <tr>\n",
       "      <th>1/1/2018 0:30</th>\n",
       "      <td>4.00</td>\n",
       "      <td>4.46</td>\n",
       "      <td>0.0</td>\n",
       "      <td>0.0</td>\n",
       "      <td>66.77</td>\n",
       "      <td>100.0</td>\n",
       "      <td>1800</td>\n",
       "      <td>0</td>\n",
       "      <td>1</td>\n",
       "      <td>0</td>\n",
       "      <td>0</td>\n",
       "      <td>0</td>\n",
       "      <td>0</td>\n",
       "      <td>0</td>\n",
       "      <td>0</td>\n",
       "      <td>0</td>\n",
       "    </tr>\n",
       "    <tr>\n",
       "      <th>1/1/2018 0:45</th>\n",
       "      <td>3.24</td>\n",
       "      <td>3.28</td>\n",
       "      <td>0.0</td>\n",
       "      <td>0.0</td>\n",
       "      <td>70.28</td>\n",
       "      <td>100.0</td>\n",
       "      <td>2700</td>\n",
       "      <td>0</td>\n",
       "      <td>1</td>\n",
       "      <td>0</td>\n",
       "      <td>0</td>\n",
       "      <td>0</td>\n",
       "      <td>0</td>\n",
       "      <td>0</td>\n",
       "      <td>0</td>\n",
       "      <td>0</td>\n",
       "    </tr>\n",
       "    <tr>\n",
       "      <th>1/1/2018 1:00</th>\n",
       "      <td>3.31</td>\n",
       "      <td>3.56</td>\n",
       "      <td>0.0</td>\n",
       "      <td>0.0</td>\n",
       "      <td>68.09</td>\n",
       "      <td>100.0</td>\n",
       "      <td>3600</td>\n",
       "      <td>0</td>\n",
       "      <td>1</td>\n",
       "      <td>0</td>\n",
       "      <td>0</td>\n",
       "      <td>0</td>\n",
       "      <td>0</td>\n",
       "      <td>0</td>\n",
       "      <td>0</td>\n",
       "      <td>0</td>\n",
       "    </tr>\n",
       "    <tr>\n",
       "      <th>1/1/2018 1:15</th>\n",
       "      <td>3.82</td>\n",
       "      <td>4.50</td>\n",
       "      <td>0.0</td>\n",
       "      <td>0.0</td>\n",
       "      <td>64.72</td>\n",
       "      <td>100.0</td>\n",
       "      <td>4500</td>\n",
       "      <td>0</td>\n",
       "      <td>1</td>\n",
       "      <td>0</td>\n",
       "      <td>0</td>\n",
       "      <td>0</td>\n",
       "      <td>0</td>\n",
       "      <td>0</td>\n",
       "      <td>0</td>\n",
       "      <td>0</td>\n",
       "    </tr>\n",
       "  </tbody>\n",
       "</table>\n",
       "</div>"
      ],
      "text/plain": [
       "               Usage_kWh  Lagging_Current_Reactive.Power_kVarh  \\\n",
       "date                                                             \n",
       "1/1/2018 0:15       3.17                                  2.95   \n",
       "1/1/2018 0:30       4.00                                  4.46   \n",
       "1/1/2018 0:45       3.24                                  3.28   \n",
       "1/1/2018 1:00       3.31                                  3.56   \n",
       "1/1/2018 1:15       3.82                                  4.50   \n",
       "\n",
       "               Leading_Current_Reactive_Power_kVarh  CO2(tCO2)  \\\n",
       "date                                                             \n",
       "1/1/2018 0:15                                   0.0        0.0   \n",
       "1/1/2018 0:30                                   0.0        0.0   \n",
       "1/1/2018 0:45                                   0.0        0.0   \n",
       "1/1/2018 1:00                                   0.0        0.0   \n",
       "1/1/2018 1:15                                   0.0        0.0   \n",
       "\n",
       "               Lagging_Current_Power_Factor  Leading_Current_Power_Factor  \\\n",
       "date                                                                        \n",
       "1/1/2018 0:15                         73.21                         100.0   \n",
       "1/1/2018 0:30                         66.77                         100.0   \n",
       "1/1/2018 0:45                         70.28                         100.0   \n",
       "1/1/2018 1:00                         68.09                         100.0   \n",
       "1/1/2018 1:15                         64.72                         100.0   \n",
       "\n",
       "                NSM  WeekStatus_Weekend  Day_of_week_Monday  \\\n",
       "date                                                          \n",
       "1/1/2018 0:15   900                   0                   1   \n",
       "1/1/2018 0:30  1800                   0                   1   \n",
       "1/1/2018 0:45  2700                   0                   1   \n",
       "1/1/2018 1:00  3600                   0                   1   \n",
       "1/1/2018 1:15  4500                   0                   1   \n",
       "\n",
       "               Day_of_week_Saturday  Day_of_week_Sunday  Day_of_week_Thursday  \\\n",
       "date                                                                            \n",
       "1/1/2018 0:15                     0                   0                     0   \n",
       "1/1/2018 0:30                     0                   0                     0   \n",
       "1/1/2018 0:45                     0                   0                     0   \n",
       "1/1/2018 1:00                     0                   0                     0   \n",
       "1/1/2018 1:15                     0                   0                     0   \n",
       "\n",
       "               Day_of_week_Tuesday  Day_of_week_Wednesday  \\\n",
       "date                                                        \n",
       "1/1/2018 0:15                    0                      0   \n",
       "1/1/2018 0:30                    0                      0   \n",
       "1/1/2018 0:45                    0                      0   \n",
       "1/1/2018 1:00                    0                      0   \n",
       "1/1/2018 1:15                    0                      0   \n",
       "\n",
       "               Load_Type_Maximum_Load  Load_Type_Medium_Load  \n",
       "date                                                          \n",
       "1/1/2018 0:15                       0                      0  \n",
       "1/1/2018 0:30                       0                      0  \n",
       "1/1/2018 0:45                       0                      0  \n",
       "1/1/2018 1:00                       0                      0  \n",
       "1/1/2018 1:15                       0                      0  "
      ]
     },
     "execution_count": 34,
     "metadata": {},
     "output_type": "execute_result"
    }
   ],
   "source": [
    "#indexing date\n",
    "df = df.set_index('date')\n",
    "\n",
    "#handling categorical data\n",
    "df = pd.get_dummies(df, drop_first = True)\n",
    "df.head()"
   ]
  },
  {
   "cell_type": "code",
   "execution_count": 36,
   "id": "43c95362",
   "metadata": {},
   "outputs": [],
   "source": [
    "from sklearn.model_selection import train_test_split\n",
    "from sklearn.linear_model import LinearRegression, Ridge, Lasso\n",
    "from sklearn import metrics"
   ]
  },
  {
   "cell_type": "code",
   "execution_count": 37,
   "id": "e4b19a0c",
   "metadata": {},
   "outputs": [
    {
     "name": "stdout",
     "output_type": "stream",
     "text": [
      "(24528, 15)\n",
      "(24528,)\n",
      "(10512, 15)\n",
      "(10512,)\n"
     ]
    }
   ],
   "source": [
    "#split data\n",
    "X = df.drop('Usage_kWh', axis = 1)\n",
    "y = df['Usage_kWh']\n",
    "X_train, X_test, y_train, y_test = train_test_split(X, y, test_size = 0.3, random_state = 42)\n",
    "print(X_train.shape)\n",
    "print(y_train.shape)\n",
    "print(X_test.shape)\n",
    "print(y_test.shape)"
   ]
  },
  {
   "cell_type": "code",
   "execution_count": 38,
   "id": "1866b54f",
   "metadata": {},
   "outputs": [
    {
     "name": "stdout",
     "output_type": "stream",
     "text": [
      "Wall time: 50.7 ms\n"
     ]
    },
    {
     "data": {
      "text/plain": [
       "0.9841681626773733"
      ]
     },
     "execution_count": 38,
     "metadata": {},
     "output_type": "execute_result"
    }
   ],
   "source": [
    "#Linear Regression Model\n",
    "lr = LinearRegression()\n",
    "%time lr.fit(X_train, y_train)\n",
    "lr.score(X_test, y_test)"
   ]
  },
  {
   "cell_type": "code",
   "execution_count": 39,
   "id": "16cfb5d0",
   "metadata": {},
   "outputs": [
    {
     "name": "stdout",
     "output_type": "stream",
     "text": [
      "Wall time: 31.9 ms\n"
     ]
    },
    {
     "data": {
      "text/plain": [
       "0.9683613861527881"
      ]
     },
     "execution_count": 39,
     "metadata": {},
     "output_type": "execute_result"
    }
   ],
   "source": [
    "#Ridge Regression Model\n",
    "ridge = Ridge(alpha = 0.5)\n",
    "%time ridge.fit(X_train, y_train)\n",
    "ridge.score(X_test, y_test)"
   ]
  },
  {
   "cell_type": "code",
   "execution_count": 40,
   "id": "0e49d627",
   "metadata": {},
   "outputs": [
    {
     "name": "stdout",
     "output_type": "stream",
     "text": [
      "Wall time: 34.2 ms\n"
     ]
    },
    {
     "data": {
      "text/plain": [
       "0.9098749972992152"
      ]
     },
     "execution_count": 40,
     "metadata": {},
     "output_type": "execute_result"
    }
   ],
   "source": [
    "#Lasso Regression Model\n",
    "lasso = Lasso(alpha = 0.5)\n",
    "%time lasso.fit(X_train, y_train)\n",
    "lasso.score(X_test, y_test)"
   ]
  },
  {
   "cell_type": "code",
   "execution_count": 41,
   "id": "96bfb74f",
   "metadata": {},
   "outputs": [
    {
     "name": "stdout",
     "output_type": "stream",
     "text": [
      "[  3.09659745  70.15826234 124.42399214 ...   2.22293667   1.54271064\n",
      "   3.94845762]\n"
     ]
    }
   ],
   "source": [
    "#prediction\n",
    "y_pred = lr.predict(X_test)\n",
    "print(y_pred)"
   ]
  },
  {
   "cell_type": "code",
   "execution_count": 44,
   "id": "b509f30c",
   "metadata": {},
   "outputs": [
    {
     "name": "stdout",
     "output_type": "stream",
     "text": [
      "Mean Absolute Error :  2.5519176087419244\n",
      "Mean Squared Error :  17.769389051354477\n",
      "Root Mean Squared Error :  4.215375315598182\n"
     ]
    }
   ],
   "source": [
    "#check MAE, MSE and MSE\n",
    "print('Mean Absolute Error : ', metrics.mean_absolute_error(y_test, y_pred))\n",
    "print('Mean Squared Error : ', metrics.mean_squared_error(y_test, y_pred))\n",
    "print('Root Mean Squared Error : ', math.sqrt(metrics.mean_squared_error(y_test, y_pred)))"
   ]
  },
  {
   "cell_type": "code",
   "execution_count": 45,
   "id": "86cbd470",
   "metadata": {},
   "outputs": [
    {
     "data": {
      "image/png": "[encoded data removed]",
      "text/plain": [
       "<Figure size 432x288 with 1 Axes>"
      ]
     },
     "metadata": {
      "needs_background": "light"
     },
     "output_type": "display_data"
    }
   ],
   "source": [
    "#visualize model\n",
    "x = y_test\n",
    "y = y_pred\n",
    "\n",
    "plt.title('Linear Regression Model', fontsize = 15, color = 'g', pad = 12)\n",
    "plt.plot(x, y, 'o', color = 'r')\n",
    "\n",
    "m, b = np.polyfit(x, y, 1)\n",
    "plt.plot(x, m * x + b, color = 'darkblue')\n",
    "plt.xlabel('Actual')\n",
    "plt.ylabel('Predicted')\n",
    "plt.show()"
   ]
  },
  {
   "cell_type": "code",
   "execution_count": null,
   "id": "42fcef3a",
   "metadata": {},
   "outputs": [],
   "source": []
  }
 ],
 "metadata": {
  "kernelspec": {
   "display_name": "Python 3",
   "language": "python",
   "name": "python3"
  },
  "language_info": {
   "codemirror_mode": {
    "name": "ipython",
    "version": 3
   },
   "file_extension": ".py",
   "mimetype": "text/x-python",
   "name": "python",
   "nbconvert_exporter": "python",
   "pygments_lexer": "ipython3",
   "version": "3.8.8"
  }
 },
 "nbformat": 4,
 "nbformat_minor": 5
}
